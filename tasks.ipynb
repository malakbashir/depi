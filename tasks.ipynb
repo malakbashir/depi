{
 "cells": [
  {
   "cell_type": "code",
   "execution_count": null,
   "metadata": {},
   "outputs": [],
   "source": [
    "#list\n",
    " "
   ]
  },
  {
   "cell_type": "code",
   "execution_count": 11,
   "metadata": {},
   "outputs": [
    {
     "name": "stdout",
     "output_type": "stream",
     "text": [
      "[]\n"
     ]
    }
   ],
   "source": [
    "#file reading\n",
    "f = open(\"test.txt\",\"w\")\n",
    "def read_file(filename):\n",
    "    with open(filename) as f:\n",
    "        content = f.readlines()\n",
    "        print(content)\n",
    "read_file(\"test.txt\")"
   ]
  },
  {
   "cell_type": "markdown",
   "metadata": {},
   "source": []
  },
  {
   "cell_type": "code",
   "execution_count": 14,
   "metadata": {},
   "outputs": [
    {
     "name": "stdout",
     "output_type": "stream",
     "text": [
      "[1, 2, 3, 4, 5, 6, 7, 8]\n",
      "(1, 2, 3, 4, 5, 6, 7, 8)\n"
     ]
    }
   ],
   "source": [
    "#comma separated program\n",
    "x=input()\n",
    "y=x.split(',')\n",
    "list1=[int(x)for x in y]\n",
    "tuple1=tuple(list1)\n",
    "print(list1)\n",
    "print(tuple1)"
   ]
  },
  {
   "cell_type": "code",
   "execution_count": 9,
   "metadata": {},
   "outputs": [
    {
     "name": "stdout",
     "output_type": "stream",
     "text": [
      "True\n",
      "False\n",
      "True\n",
      "False\n"
     ]
    }
   ],
   "source": [
    "#membership\n",
    "my_list = [1, 2, 3, 4, 5]\n",
    "my_dict = {'a': 1, 'b': 2, 'c': 3}\n",
    "print(3 in my_list) \n",
    "print('a' not in my_dict)  \n",
    "print(6 not in my_list)  \n",
    "print('d' in my_dict)  \n"
   ]
  },
  {
   "cell_type": "code",
   "execution_count": 6,
   "metadata": {},
   "outputs": [
    {
     "name": "stdout",
     "output_type": "stream",
     "text": [
      "True\n",
      "False\n",
      "True\n"
     ]
    }
   ],
   "source": [
    "#identity \n",
    "a = [1, 2, 3]\n",
    "b = a  \n",
    "c = [1, 2, 3]  \n",
    "print(a is b)  \n",
    "print(a is c) \n",
    "print(a is not c)  \n"
   ]
  },
  {
   "cell_type": "code",
   "execution_count": 5,
   "metadata": {},
   "outputs": [
    {
     "name": "stdout",
     "output_type": "stream",
     "text": [
      "15\n",
      "12\n",
      "24\n",
      "6.0\n",
      "1.0\n",
      "1.0\n",
      "3\n",
      "1\n"
     ]
    }
   ],
   "source": [
    "#assigment\n",
    "a = 10\n",
    "a += 5  \n",
    "print(a) \n",
    "a -= 3  \n",
    "print(a)  \n",
    "a *= 2  \n",
    "print(a) \n",
    "a /= 4  \n",
    "print(a)  \n",
    "a %= 5  \n",
    "print(a)  \n",
    "a **= 3  \n",
    "print(a)  \n",
    "a = 15\n",
    "a //= 4 \n",
    "print(a)  \n",
    "a = 5\n",
    "a &= 3  \n",
    "print(a) \n"
   ]
  },
  {
   "cell_type": "code",
   "execution_count": 4,
   "metadata": {},
   "outputs": [
    {
     "name": "stdout",
     "output_type": "stream",
     "text": [
      "1\n",
      "7\n",
      "6\n",
      "-6\n",
      "10\n",
      "2\n"
     ]
    }
   ],
   "source": [
    "#bitwise\n",
    "a, b = 5, 3 \n",
    "print(a & b)  \n",
    "print(a | b)  \n",
    "print(a ^ b)  \n",
    "print(~a)  \n",
    "print(a << 1)  \n",
    "print(a >> 1)  \n"
   ]
  },
  {
   "cell_type": "code",
   "execution_count": 3,
   "metadata": {},
   "outputs": [
    {
     "name": "stdout",
     "output_type": "stream",
     "text": [
      "False\n",
      "True\n",
      "False\n",
      "True\n",
      "False\n",
      "True\n"
     ]
    }
   ],
   "source": [
    "#comaprison\n",
    "a, b = 10, 20\n",
    "print(a > b) \n",
    "print(a < b)  \n",
    "print(a == b) \n",
    "print(a != b)\n",
    "print(a >= b) \n",
    "print(a <= b)\n"
   ]
  },
  {
   "cell_type": "code",
   "execution_count": 2,
   "metadata": {},
   "outputs": [
    {
     "name": "stdout",
     "output_type": "stream",
     "text": [
      "13\n",
      "7\n",
      "30\n",
      "3.3333333333333335\n",
      "3\n",
      "1\n",
      "1000\n"
     ]
    }
   ],
   "source": [
    "#Arithmetic\n",
    "a, b = 10, 3\n",
    "print(a + b) \n",
    "print(a - b)  \n",
    "print(a * b) \n",
    "print(a / b)\n",
    "print(a // b) \n",
    "print(a % b)\n",
    "print(a ** b)\n"
   ]
  },
  {
   "cell_type": "code",
   "execution_count": 1,
   "metadata": {},
   "outputs": [
    {
     "name": "stdout",
     "output_type": "stream",
     "text": [
      "False\n",
      "True\n",
      "False\n"
     ]
    }
   ],
   "source": [
    "#logical\n",
    "\n",
    "a, b = True, False\n",
    "print(a and b) \n",
    "a, b = True, False\n",
    "print(a or b)  \n",
    "a = True\n",
    "print(not a)  \n"
   ]
  }
 ],
 "metadata": {
  "kernelspec": {
   "display_name": "Python 3",
   "language": "python",
   "name": "python3"
  },
  "language_info": {
   "codemirror_mode": {
    "name": "ipython",
    "version": 3
   },
   "file_extension": ".py",
   "mimetype": "text/x-python",
   "name": "python",
   "nbconvert_exporter": "python",
   "pygments_lexer": "ipython3",
   "version": "3.13.0"
  }
 },
 "nbformat": 4,
 "nbformat_minor": 2
}
