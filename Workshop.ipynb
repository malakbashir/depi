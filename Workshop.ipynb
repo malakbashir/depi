{
 "cells": [
  {
   "cell_type": "markdown",
   "metadata": {},
   "source": [
    "# Python Workshop - problem solving "
   ]
  },
  {
   "cell_type": "markdown",
   "metadata": {},
   "source": [
    "## 1. Strings:\n",
    "\n",
    "Question:\n",
    "\n",
    "\n",
    "Write a Python program that takes a sentence as input and counts the number of vowels (a, e, i, o, u) in the sentence.\n",
    "\n",
    "Example:"
   ]
  },
  {
   "cell_type": "code",
   "execution_count": null,
   "metadata": {},
   "outputs": [],
   "source": [
    "# Input: \"Hello World\"\n",
    "# Output: 3"
   ]
  },
  {
   "cell_type": "code",
   "execution_count": null,
   "metadata": {},
   "outputs": [],
   "source": []
  },
  {
   "cell_type": "markdown",
   "metadata": {},
   "source": [
    "## 2. Lists:\n",
    "\n",
    "\n",
    "Question:\n",
    "\n",
    "\n",
    "Given a list of numbers [1, 3, 5, 7, 9], write a Python program to double each element in the list and store the result in a new list.\n",
    "\n",
    "Example:"
   ]
  },
  {
   "cell_type": "code",
   "execution_count": null,
   "metadata": {},
   "outputs": [],
   "source": [
    "# Original List: [1, 3, 5, 7, 9]\n",
    "# New List: [2, 6, 10, 14, 18]"
   ]
  },
  {
   "cell_type": "code",
   "execution_count": null,
   "metadata": {},
   "outputs": [],
   "source": []
  },
  {
   "cell_type": "markdown",
   "metadata": {},
   "source": [
    "## 3. Sets:\n",
    "\n",
    "Question:\n",
    "\n",
    "\n",
    "Create two sets: set1 = {1, 2, 3, 4} and set2 = {3, 4, 5, 6}. Write a Python program to find the union and intersection of the two sets.\n",
    "\n",
    "Example:"
   ]
  },
  {
   "cell_type": "code",
   "execution_count": null,
   "metadata": {},
   "outputs": [],
   "source": [
    "# set1: {1, 2, 3, 4}\n",
    "# set2: {3, 4, 5, 6}\n",
    "# Union: {1, 2, 3, 4, 5, 6}\n",
    "# Intersection: {3, 4}"
   ]
  },
  {
   "cell_type": "code",
   "execution_count": null,
   "metadata": {},
   "outputs": [],
   "source": []
  },
  {
   "cell_type": "markdown",
   "metadata": {},
   "source": [
    "## 4. Dictionaries:\n",
    "\n",
    "Question:\n",
    "\n",
    "\n",
    "Given a dictionary {'a': 1, 'b': 2, 'c': 3}, write a Python program to swap the keys and values, so the resulting dictionary becomes {1: 'a', 2: 'b', 3: 'c'}.\n",
    "\n",
    "Example:"
   ]
  },
  {
   "cell_type": "code",
   "execution_count": null,
   "metadata": {},
   "outputs": [],
   "source": [
    "# Original Dictionary: {'a': 1, 'b': 2, 'c': 3}\n",
    "# Updated Dictionary: {1: 'a', 2: 'b', 3: 'c'}"
   ]
  },
  {
   "cell_type": "code",
   "execution_count": null,
   "metadata": {},
   "outputs": [],
   "source": []
  },
  {
   "cell_type": "markdown",
   "metadata": {},
   "source": [
    "## 5. Tuples:\n",
    "\n",
    "Question:\n",
    "\n",
    "Given a tuple (5, 10, 15, 20), write a Python program to convert it into a list, change the second element to 12, and then convert it back to a tuple.\n",
    "\n",
    "Example:"
   ]
  },
  {
   "cell_type": "code",
   "execution_count": null,
   "metadata": {},
   "outputs": [],
   "source": [
    "# Original Tuple: (5, 10, 15, 20)\n",
    "# Updated Tuple: (5, 12, 15, 20)"
   ]
  },
  {
   "cell_type": "code",
   "execution_count": null,
   "metadata": {},
   "outputs": [],
   "source": []
  },
  {
   "cell_type": "markdown",
   "metadata": {},
   "source": [
    "## 6. Functions:\n",
    "\n",
    "Question:\n",
    "\n",
    "Write a Python function named is_palindrome that takes a string as input and returns True if the string is a palindrome (reads the same forwards and backwards), and False otherwise.\n",
    "\n",
    "Example:"
   ]
  },
  {
   "cell_type": "code",
   "execution_count": null,
   "metadata": {},
   "outputs": [],
   "source": [
    "# Input: \"radar\"\n",
    "# Output: True\n",
    "\n",
    "# Input: \"hello\"\n",
    "# Output: False"
   ]
  },
  {
   "cell_type": "code",
   "execution_count": null,
   "metadata": {},
   "outputs": [],
   "source": []
  },
  {
   "cell_type": "markdown",
   "metadata": {},
   "source": [
    "## 7. Functions:\n",
    "\n",
    "Question:\n",
    "\n",
    "Write a Python function named count_occurrences that takes two arguments: a list of integers and a target integer. The function should return a dictionary where the keys are the unique integers from the list, and the values are the number of times each integer occurs in the list. Additionally, if the target integer is present in the list, the function should also include the key \"target_count\" with its value being the number of times the target integer occurs.\n"
   ]
  },
  {
   "cell_type": "code",
   "execution_count": null,
   "metadata": {},
   "outputs": [],
   "source": [
    "# Input: [1, 2, 2, 3, 4, 2, 5], target = 2\n",
    "# Output: {1: 1, 2: 3, 3: 1, 4: 1, 5: 1, 'target_count': 3}\n",
    "\n",
    "# Input: [10, 10, 20, 30], target = 25\n",
    "# Output: {10: 2, 20: 1, 30: 1}"
   ]
  },
  {
   "cell_type": "code",
   "execution_count": null,
   "metadata": {},
   "outputs": [],
   "source": []
  },
  {
   "cell_type": "markdown",
   "metadata": {},
   "source": [
    "## 8. while loop:\n",
    "Write a Python program that uses a while loop to generate a sequence of numbers starting from 1. The loop should continue generating numbers and adding them to a list until the sum of all numbers in the list exceeds 200. After the loop, print the list of numbers and the total sum of the numbers.\n",
    "\n",
    "Example:"
   ]
  },
  {
   "cell_type": "code",
   "execution_count": null,
   "metadata": {},
   "outputs": [],
   "source": []
  },
  {
   "cell_type": "markdown",
   "metadata": {},
   "source": [
    "## 9. Question:\n",
    "\n",
    "Write a Python function named remove_duplicates that takes a list of integers as input and returns a new list with duplicate values removed. \n",
    "\n",
    "The order of the original list should be preserved in the new list.\n",
    "\n",
    "Example:"
   ]
  },
  {
   "cell_type": "code",
   "execution_count": null,
   "metadata": {},
   "outputs": [],
   "source": [
    "# Input: [1, 2, 2, 3, 4, 4, 5]\n",
    "# Output: [1, 2, 3, 4, 5]"
   ]
  },
  {
   "cell_type": "code",
   "execution_count": 13,
   "metadata": {},
   "outputs": [
    {
     "name": "stdout",
     "output_type": "stream",
     "text": [
      "[1, 2, 3, 4, 5]\n"
     ]
    }
   ],
   "source": [
    "# Incorrect Solution:\n",
    "def remove_duplicates(numbers):\n",
    "    unique_numbers = []\n",
    "    for num in numbers:\n",
    "        if num not in unique_numbers:\n",
    "            unique_numbers.append(num)\n",
    "    return unique_numbers\n",
    "\n",
    "# Example usage:\n",
    "print(remove_duplicates([1, 2, 2, 3, 4, 4, 5]))  # Output: [1, 2, 3, 4, 5]\n"
   ]
  },
  {
   "cell_type": "markdown",
   "metadata": {},
   "source": [
    "### Explanation of the Incorrect Solution:\n",
    "\n",
    "This approach is actually correct in removing duplicates while preserving the order of the original list. The list unique_numbers is built by appending numbers that are not already in the list. It ensures that duplicates are removed while preserving the original order.\n",
    "\n",
    "\n",
    "Question:\n",
    "\n",
    "\n",
    "Is there a more efficient way to solve this problem that might improve performance, especially with larger lists? What could be a better approach?"
   ]
  },
  {
   "cell_type": "markdown",
   "metadata": {},
   "source": [
    "### Optimized Solution:\n",
    "\n",
    "Explanation:\n",
    "\n",
    "Using a set helps in quickly checking for duplicates, as set operations are average O(1) in time complexity.\n",
    "The set is used to track seen numbers, and a list is used to maintain the order of unique elements.\n",
    "#### Optimized Code:"
   ]
  },
  {
   "cell_type": "code",
   "execution_count": null,
   "metadata": {},
   "outputs": [],
   "source": []
  },
  {
   "cell_type": "markdown",
   "metadata": {},
   "source": [
    "#### Explanation of the Optimized Solution:\n",
    "1. Set Usage: A set called seen is used to keep track of numbers that have already been encountered. This ensures each number is only added to the unique_numbers list once.\n",
    "2. Order Preservation: The unique_numbers list maintains the order of the first occurrence of each unique number.\n",
    "3. Efficiency: The in operation on a set is more efficient than a list due to the set's hashing mechanism.\n",
    "\n",
    "\n",
    "This approach reduces the overall time complexity by avoiding multiple membership checks on the list, making it more suitable for larger datasets."
   ]
  },
  {
   "cell_type": "code",
   "execution_count": null,
   "metadata": {},
   "outputs": [],
   "source": []
  },
  {
   "cell_type": "markdown",
   "metadata": {},
   "source": [
    "## 10. Question:\n",
    "Write a Python program that takes a list of words as input and creates a dictionary where the keys are the unique words in the list, and the values are lists containing the indices (positions) at which each word appears in the list.\n",
    "\n",
    "Expected Output:\n",
    "\n",
    "If the input list is [\"apple\", \"banana\", \"orange\", \"banana\", \"kiwi\", \"apple\"], the program should return {'apple': [0], 'banana': [1], 'orange': [3], 'kiwi': [4]}.\n",
    "Please write the Python code to accomplish this task."
   ]
  },
  {
   "cell_type": "code",
   "execution_count": null,
   "metadata": {},
   "outputs": [],
   "source": []
  },
  {
   "cell_type": "code",
   "execution_count": null,
   "metadata": {},
   "outputs": [],
   "source": []
  },
  {
   "cell_type": "code",
   "execution_count": null,
   "metadata": {},
   "outputs": [],
   "source": []
  }
 ],
 "metadata": {
  "kernelspec": {
   "display_name": "Python 3",
   "language": "python",
   "name": "python3"
  },
  "language_info": {
   "codemirror_mode": {
    "name": "ipython",
    "version": 3
   },
   "file_extension": ".py",
   "mimetype": "text/x-python",
   "name": "python",
   "nbconvert_exporter": "python",
   "pygments_lexer": "ipython3",
   "version": "3.13.0"
  }
 },
 "nbformat": 4,
 "nbformat_minor": 2
}
