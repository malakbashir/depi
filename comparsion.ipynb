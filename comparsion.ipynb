{
 "cells": [
  {
   "cell_type": "code",
   "execution_count": 1,
   "metadata": {},
   "outputs": [
    {
     "name": "stdout",
     "output_type": "stream",
     "text": [
      "[2, 3]\n",
      "[1, 8, 7, 5]\n",
      "None\n",
      "7\n"
     ]
    }
   ],
   "source": [
    "#list : mutable , orderd\n",
    "lst=[2,3,4,5,9]\n",
    "#opiratin \n",
    "print(lst[0:2])\n",
    "print([1,8]+[7,5])\n",
    "#methods\n",
    "print(lst.append(7))\n",
    "print(lst.pop())"
   ]
  },
  {
   "cell_type": "code",
   "execution_count": 2,
   "metadata": {},
   "outputs": [
    {
     "name": "stdout",
     "output_type": "stream",
     "text": [
      "{9, 5}\n",
      "{8, 1}\n",
      "None\n",
      "None\n"
     ]
    }
   ],
   "source": [
    "#set mutable unordered\n",
    "set1={1,8,5,9}\n",
    "set2={3,5,4,9}\n",
    "#opiratin \n",
    "print(set1&set2)\n",
    "print(set1-set2)\n",
    "#methods\n",
    "print(set1.add(7))\n",
    "print(set1.remove(7))"
   ]
  },
  {
   "cell_type": "code",
   "execution_count": 3,
   "metadata": {},
   "outputs": [
    {
     "name": "stdout",
     "output_type": "stream",
     "text": [
      "(1, 9, 7, 4, 4, 1, 9, 7, 4, 4)\n",
      "2\n"
     ]
    }
   ],
   "source": [
    "#tuple immutable /ordered\n",
    "tuple1=(1,9,7,4,4)\n",
    "#opiration\n",
    "print(tuple1*2)\n",
    "#method\n",
    "print(tuple1.count(4))"
   ]
  },
  {
   "cell_type": "code",
   "execution_count": 4,
   "metadata": {},
   "outputs": [
    {
     "name": "stdout",
     "output_type": "stream",
     "text": [
      "malak\n",
      "dict_items([('name', 'malak'), ('university', 'EELU')])\n"
     ]
    }
   ],
   "source": [
    "#dictionary mutable ordered\n",
    "dct={\"name\":\"malak\",\"university\":\"EELU\"}\n",
    "#opiration\n",
    "print(dct[\"name\"])\n",
    "#methods\n",
    "print(dct.items())"
   ]
  }
 ],
 "metadata": {
  "kernelspec": {
   "display_name": "Python 3",
   "language": "python",
   "name": "python3"
  },
  "language_info": {
   "codemirror_mode": {
    "name": "ipython",
    "version": 3
   },
   "file_extension": ".py",
   "mimetype": "text/x-python",
   "name": "python",
   "nbconvert_exporter": "python",
   "pygments_lexer": "ipython3",
   "version": "3.13.0"
  }
 },
 "nbformat": 4,
 "nbformat_minor": 2
}
